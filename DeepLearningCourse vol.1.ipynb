{
 "cells": [
  {
   "cell_type": "markdown",
   "metadata": {
    "deletable": true,
    "editable": true
   },
   "source": [
    "DeepLearningCourse vol.1\n",
    "# DeepLearningとは"
   ]
  },
  {
   "cell_type": "markdown",
   "metadata": {
    "collapsed": true,
    "deletable": true,
    "editable": true
   },
   "source": [
    "DeepLearningは、機械学習手法の一つであり、入力されたデータから分類や回帰を行う手法です。\n",
    "\n",
    "今まで勉強してきた機械学習のアルゴリズムと違うところは、__特徴量をデータから自動で抽出してくれる__という点です。\n",
    "従来の手法では、人間が特徴量を試行錯誤しながら設計していました。DeepLearningでは、特徴量設計なしに学習できるという大きな強みをもっています。"
   ]
  },
  {
   "cell_type": "markdown",
   "metadata": {
    "deletable": true,
    "editable": true
   },
   "source": [
    "ディープラーニングの圧倒的な精度を示す2つの出来事が起こったのは2012年。\n",
    "\n",
    "1つは画像認識コンテスト「ILSVRC（ImageNet Large Scale Visual Recognition Challenge）」でニューラルネットワークを活用したSupervisionという手法が、前年の優勝記録の「誤り率」25.7%を15.3%と大きく改善し圧勝したこと。\n",
    "\n",
    "もう1つはGoogleのニューラルネットワークがYouTube動画を学習し、「猫」を自律的に認識したことです。\n",
    "これは12層ニューラルネットワークによる教師なし学習によるもので、YouTubeにアップロードされている動画からランダムに切り出した200×200ピクセルの画像を1000万枚を学習し「人間の顔」「猫の顔」「人間の体」の写真を識別することに成功しました。"
   ]
  },
  {
   "cell_type": "markdown",
   "metadata": {
    "deletable": true,
    "editable": true
   },
   "source": [
    "![](https://s3.amazonaws.com/ai-standard/pic-d1-1.png)"
   ]
  },
  {
   "cell_type": "code",
   "execution_count": null,
   "metadata": {
    "collapsed": true,
    "deletable": true,
    "editable": true
   },
   "outputs": [],
   "source": [
    "あとは何を書こうかな"
   ]
  }
 ],
 "metadata": {
  "kernelspec": {
   "display_name": "Python 3",
   "language": "python",
   "name": "python3"
  },
  "language_info": {
   "codemirror_mode": {
    "name": "ipython",
    "version": 3
   },
   "file_extension": ".py",
   "mimetype": "text/x-python",
   "name": "python",
   "nbconvert_exporter": "python",
   "pygments_lexer": "ipython3",
   "version": "3.5.3"
  }
 },
 "nbformat": 4,
 "nbformat_minor": 2
}
