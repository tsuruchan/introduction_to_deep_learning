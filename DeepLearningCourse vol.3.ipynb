{
 "cells": [
  {
   "cell_type": "markdown",
   "metadata": {
    "deletable": true,
    "editable": true
   },
   "source": [
    "DeepLearningCourse vol.3\n",
    "# chainerチュートリアル with MNIST"
   ]
  },
  {
   "cell_type": "code",
   "execution_count": 1,
   "metadata": {
    "collapsed": false,
    "deletable": true,
    "editable": true
   },
   "outputs": [],
   "source": [
    "# 必要なモジュールのインポート\n",
    "\n",
    "import chainer\n",
    "import chainer.functions as F\n",
    "import chainer.links as L\n",
    "from chainer import training\n",
    "from chainer.training import extensions\n",
    "\n",
    "%matplotlib inline\n",
    "import numpy as np\n",
    "import matplotlib.pyplot as plt"
   ]
  },
  {
   "cell_type": "markdown",
   "metadata": {
    "deletable": true,
    "editable": true
   },
   "source": [
    "## MNISTとは？\n",
    "\n",
    "### MNISTとは､手書き数字画像のデータセットです。\n",
    "![](https://www.tensorflow.org/versions/master/images/MNIST.png)\n",
    "このような0〜9の手書き数字の画像（28px × 28px）が計7万枚収録されています。"
   ]
  },
  {
   "cell_type": "code",
   "execution_count": 2,
   "metadata": {
    "collapsed": true,
    "deletable": true,
    "editable": true
   },
   "outputs": [],
   "source": [
    "# MNISTのデータセットを読み込む\n",
    "train, test = chainer.datasets.get_mnist()"
   ]
  },
  {
   "cell_type": "code",
   "execution_count": 3,
   "metadata": {
    "collapsed": true,
    "deletable": true,
    "editable": true
   },
   "outputs": [],
   "source": [
    "# 画像を表示する関数\n",
    "def draw_digit(data):\n",
    "    \"\"\"数値の行列データを画像表示\"\"\"\n",
    "    size = 28\n",
    "    plt.figure(figsize=(3, 3))\n",
    "\n",
    "    X, Y = np.meshgrid(range(size),range(size))\n",
    "    Z = data.reshape(size,size)   # convert from vector to 28x28 matrix\n",
    "    Z = Z[::-1,:]             # flip vertical\n",
    "    plt.xlim(0,27)\n",
    "    plt.ylim(0,27)\n",
    "    plt.pcolor(X, Y, Z)\n",
    "    plt.gray()\n",
    "    plt.tick_params(labelbottom=\"off\")\n",
    "    plt.tick_params(labelleft=\"off\")\n",
    "\n",
    "    plt.show()"
   ]
  },
  {
   "cell_type": "code",
   "execution_count": 4,
   "metadata": {
    "collapsed": false,
    "deletable": true,
    "editable": true
   },
   "outputs": [
    {
     "data": {
      "image/png": "[encoded data removed]",
      "text/plain": [
       "<matplotlib.figure.Figure at 0x10d6424a8>"
      ]
     },
     "metadata": {},
     "output_type": "display_data"
    }
   ],
   "source": [
    "# データセットの画像を見てみましょう｡\n",
    "# 一つ目の[]の中の数字を変えて､いろんな数字の画像が含まれているのを確認しましょう\n",
    "sample_data = np.array(train[999][0])\n",
    "draw_digit(sample_data)"
   ]
  },
  {
   "cell_type": "markdown",
   "metadata": {
    "deletable": true,
    "editable": true
   },
   "source": [
    "## MNISTデータセットの構造\n",
    "MNISTのデータセットは､,このように手書き数字の画像と､答えとなる数字データがセットで並んでいます｡  \n",
    "1つ目の [] が横の番号を､2つ目の [] が縦の番号を表しています｡\n",
    "![](https://www.fastpic.jp/images.php?file=3409487222.png)"
   ]
  },
  {
   "cell_type": "code",
   "execution_count": 5,
   "metadata": {
    "collapsed": false,
    "deletable": true,
    "editable": true
   },
   "outputs": [
    {
     "data": {
      "text/plain": [
       "array([ 0.        ,  0.        ,  0.        ,  0.        ,  0.        ,\n",
       "        0.        ,  0.        ,  0.        ,  0.        ,  0.        ,\n",
       "        0.        ,  0.        ,  0.        ,  0.        ,  0.        ,\n",
       "        0.        ,  0.        ,  0.        ,  0.        ,  0.        ,\n",
       "        0.        ,  0.        ,  0.        ,  0.        ,  0.        ,\n",
       "        0.        ,  0.        ,  0.        ,  0.        ,  0.        ,\n",
       "        0.        ,  0.        ,  0.        ,  0.        ,  0.        ,\n",
       "        0.        ,  0.        ,  0.        ,  0.        ,  0.        ,\n",
       "        0.        ,  0.        ,  0.        ,  0.        ,  0.        ,\n",
       "        0.        ,  0.        ,  0.        ,  0.        ,  0.        ,\n",
       "        0.        ,  0.        ,  0.        ,  0.        ,  0.        ,\n",
       "        0.        ,  0.        ,  0.        ,  0.        ,  0.        ,\n",
       "        0.        ,  0.        ,  0.        ,  0.        ,  0.        ,\n",
       "        0.        ,  0.        ,  0.        ,  0.        ,  0.        ,\n",
       "        0.        ,  0.        ,  0.        ,  0.        ,  0.        ,\n",
       "        0.02352941,  0.63137257,  0.83529419,  0.0627451 ,  0.        ,\n",
       "        0.        ,  0.        ,  0.        ,  0.        ,  0.        ,\n",
       "        0.        ,  0.        ,  0.        ,  0.        ,  0.        ,\n",
       "        0.        ,  0.        ,  0.        ,  0.        ,  0.        ,\n",
       "        0.        ,  0.        ,  0.        ,  0.        ,  0.        ,\n",
       "        0.        ,  0.        ,  0.        ,  0.47058827,  0.99215692,\n",
       "        0.99607849,  0.30588236,  0.        ,  0.        ,  0.        ,\n",
       "        0.        ,  0.        ,  0.        ,  0.        ,  0.        ,\n",
       "        0.        ,  0.        ,  0.        ,  0.        ,  0.        ,\n",
       "        0.        ,  0.        ,  0.        ,  0.        ,  0.        ,\n",
       "        0.        ,  0.        ,  0.        ,  0.        ,  0.        ,\n",
       "        0.24705884,  1.        ,  0.99607849,  0.73333335,  0.        ,\n",
       "        0.        ,  0.        ,  0.        ,  0.        ,  0.        ,\n",
       "        0.        ,  0.        ,  0.        ,  0.        ,  0.        ,\n",
       "        0.        ,  0.        ,  0.        ,  0.        ,  0.        ,\n",
       "        0.        ,  0.        ,  0.        ,  0.        ,  0.        ,\n",
       "        0.        ,  0.        ,  0.1254902 ,  0.85098046,  0.99607849,\n",
       "        0.82745105,  0.08235294,  0.        ,  0.        ,  0.        ,\n",
       "        0.        ,  0.        ,  0.        ,  0.        ,  0.        ,\n",
       "        0.        ,  0.        ,  0.        ,  0.        ,  0.        ,\n",
       "        0.        ,  0.        ,  0.        ,  0.        ,  0.        ,\n",
       "        0.        ,  0.        ,  0.        ,  0.        ,  0.08235294,\n",
       "        0.75294125,  0.99215692,  0.89411771,  0.24313727,  0.        ,\n",
       "        0.        ,  0.        ,  0.        ,  0.        ,  0.        ,\n",
       "        0.        ,  0.        ,  0.        ,  0.        ,  0.        ,\n",
       "        0.        ,  0.        ,  0.        ,  0.        ,  0.        ,\n",
       "        0.        ,  0.        ,  0.        ,  0.        ,  0.        ,\n",
       "        0.        ,  0.04313726,  0.6901961 ,  0.99607849,  0.99215692,\n",
       "        0.24705884,  0.        ,  0.        ,  0.        ,  0.        ,\n",
       "        0.        ,  0.        ,  0.        ,  0.        ,  0.        ,\n",
       "        0.        ,  0.        ,  0.        ,  0.        ,  0.        ,\n",
       "        0.        ,  0.        ,  0.        ,  0.        ,  0.        ,\n",
       "        0.        ,  0.        ,  0.        ,  0.08235294,  0.83529419,\n",
       "        0.99607849,  1.        ,  0.38823533,  0.        ,  0.        ,\n",
       "        0.        ,  0.        ,  0.        ,  0.        ,  0.        ,\n",
       "        0.        ,  0.        ,  0.        ,  0.        ,  0.        ,\n",
       "        0.        ,  0.        ,  0.        ,  0.        ,  0.        ,\n",
       "        0.        ,  0.        ,  0.        ,  0.        ,  0.        ,\n",
       "        0.04313726,  0.60784316,  0.99607849,  0.99215692,  0.38823533,\n",
       "        0.01960784,  0.        ,  0.        ,  0.        ,  0.        ,\n",
       "        0.        ,  0.        ,  0.        ,  0.        ,  0.        ,\n",
       "        0.        ,  0.        ,  0.        ,  0.        ,  0.        ,\n",
       "        0.        ,  0.        ,  0.        ,  0.        ,  0.        ,\n",
       "        0.        ,  0.        ,  0.04313726,  0.47058827,  0.95686281,\n",
       "        0.97647065,  0.44705886,  0.        ,  0.        ,  0.        ,\n",
       "        0.        ,  0.        ,  0.        ,  0.        ,  0.        ,\n",
       "        0.        ,  0.        ,  0.        ,  0.        ,  0.        ,\n",
       "        0.        ,  0.        ,  0.        ,  0.        ,  0.        ,\n",
       "        0.        ,  0.        ,  0.        ,  0.        ,  0.        ,\n",
       "        0.60784316,  0.99607849,  0.99215692,  0.52549022,  0.        ,\n",
       "        0.        ,  0.        ,  0.        ,  0.        ,  0.        ,\n",
       "        0.        ,  0.        ,  0.        ,  0.        ,  0.        ,\n",
       "        0.        ,  0.        ,  0.        ,  0.        ,  0.        ,\n",
       "        0.        ,  0.        ,  0.        ,  0.        ,  0.        ,\n",
       "        0.        ,  0.        ,  0.67058825,  0.99607849,  1.        ,\n",
       "        0.54509807,  0.        ,  0.        ,  0.14509805,  0.42745101,\n",
       "        0.14509805,  0.02352941,  0.        ,  0.        ,  0.        ,\n",
       "        0.        ,  0.        ,  0.        ,  0.        ,  0.        ,\n",
       "        0.        ,  0.        ,  0.        ,  0.        ,  0.        ,\n",
       "        0.        ,  0.        ,  0.        ,  0.        ,  0.41176474,\n",
       "        0.99607849,  0.99215692,  0.4666667 ,  0.01960784,  0.1254902 ,\n",
       "        0.6901961 ,  0.95686281,  0.99215692,  0.95294124,  0.34509805,\n",
       "        0.        ,  0.        ,  0.        ,  0.        ,  0.        ,\n",
       "        0.        ,  0.        ,  0.        ,  0.        ,  0.        ,\n",
       "        0.        ,  0.        ,  0.        ,  0.        ,  0.        ,\n",
       "        0.        ,  0.26666668,  0.95686281,  1.        ,  0.54509807,\n",
       "        0.10588236,  0.30588236,  0.83529419,  0.99607849,  0.89411771,\n",
       "        0.89411771,  0.99607849,  0.58823532,  0.        ,  0.        ,\n",
       "        0.        ,  0.        ,  0.        ,  0.        ,  0.        ,\n",
       "        0.        ,  0.        ,  0.        ,  0.        ,  0.        ,\n",
       "        0.        ,  0.        ,  0.        ,  0.08235294,  0.8705883 ,\n",
       "        0.99215692,  0.74901962,  0.0627451 ,  0.43137258,  0.95294124,\n",
       "        0.99607849,  0.74901962,  0.20392159,  0.77254909,  0.99607849,\n",
       "        0.26274511,  0.        ,  0.        ,  0.        ,  0.        ,\n",
       "        0.        ,  0.        ,  0.        ,  0.        ,  0.        ,\n",
       "        0.        ,  0.        ,  0.        ,  0.        ,  0.        ,\n",
       "        0.        ,  0.61176473,  0.99607849,  0.87450987,  0.16470589,\n",
       "        0.52941179,  1.        ,  0.99607849,  0.61176473,  0.04313726,\n",
       "        0.67058825,  0.99607849,  0.89411771,  0.04313726,  0.        ,\n",
       "        0.        ,  0.        ,  0.        ,  0.        ,  0.        ,\n",
       "        0.        ,  0.        ,  0.        ,  0.        ,  0.        ,\n",
       "        0.        ,  0.        ,  0.        ,  0.16470589,  0.9333334 ,\n",
       "        0.99215692,  0.38431376,  0.28627452,  0.97254908,  0.95294124,\n",
       "        0.38431376,  0.1254902 ,  0.60784316,  0.99607849,  0.90980399,\n",
       "        0.28627452,  0.        ,  0.        ,  0.        ,  0.        ,\n",
       "        0.        ,  0.        ,  0.        ,  0.        ,  0.        ,\n",
       "        0.        ,  0.        ,  0.        ,  0.        ,  0.        ,\n",
       "        0.        ,  0.30980393,  0.99607849,  0.89411771,  0.08235294,\n",
       "        0.75294125,  0.99607849,  0.67058825,  0.42745101,  0.83529419,\n",
       "        0.99607849,  0.93725497,  0.28627452,  0.        ,  0.        ,\n",
       "        0.        ,  0.        ,  0.        ,  0.        ,  0.        ,\n",
       "        0.        ,  0.        ,  0.        ,  0.        ,  0.        ,\n",
       "        0.        ,  0.        ,  0.        ,  0.        ,  0.54509807,\n",
       "        0.99215692,  0.72941178,  0.16470589,  0.99607849,  0.99215692,\n",
       "        0.91372555,  0.99215692,  0.99607849,  0.82745105,  0.24705884,\n",
       "        0.        ,  0.        ,  0.        ,  0.        ,  0.        ,\n",
       "        0.        ,  0.        ,  0.        ,  0.        ,  0.        ,\n",
       "        0.        ,  0.        ,  0.        ,  0.        ,  0.        ,\n",
       "        0.        ,  0.        ,  0.16470589,  0.9333334 ,  0.99607849,\n",
       "        0.99607849,  1.        ,  0.99607849,  1.        ,  0.79215693,\n",
       "        0.52941179,  0.04313726,  0.        ,  0.        ,  0.        ,\n",
       "        0.        ,  0.        ,  0.        ,  0.        ,  0.        ,\n",
       "        0.        ,  0.        ,  0.        ,  0.        ,  0.        ,\n",
       "        0.        ,  0.        ,  0.        ,  0.        ,  0.        ,\n",
       "        0.        ,  0.36862746,  0.66666669,  0.99215692,  0.99607849,\n",
       "        0.74901962,  0.30588236,  0.01960784,  0.        ,  0.        ,\n",
       "        0.        ,  0.        ,  0.        ,  0.        ,  0.        ,\n",
       "        0.        ,  0.        ,  0.        ,  0.        ,  0.        ,\n",
       "        0.        ,  0.        ,  0.        ,  0.        ,  0.        ,\n",
       "        0.        ,  0.        ,  0.        ,  0.        ,  0.        ,\n",
       "        0.        ,  0.        ,  0.        ,  0.        ,  0.        ,\n",
       "        0.        ,  0.        ,  0.        ,  0.        ,  0.        ,\n",
       "        0.        ,  0.        ,  0.        ,  0.        ,  0.        ,\n",
       "        0.        ,  0.        ,  0.        ,  0.        ,  0.        ,\n",
       "        0.        ,  0.        ,  0.        ,  0.        ,  0.        ,\n",
       "        0.        ,  0.        ,  0.        ,  0.        ,  0.        ,\n",
       "        0.        ,  0.        ,  0.        ,  0.        ,  0.        ,\n",
       "        0.        ,  0.        ,  0.        ,  0.        ,  0.        ,\n",
       "        0.        ,  0.        ,  0.        ,  0.        ,  0.        ,\n",
       "        0.        ,  0.        ,  0.        ,  0.        ,  0.        ,\n",
       "        0.        ,  0.        ,  0.        ,  0.        ,  0.        ,\n",
       "        0.        ,  0.        ,  0.        ,  0.        ,  0.        ,\n",
       "        0.        ,  0.        ,  0.        ,  0.        ,  0.        ,\n",
       "        0.        ,  0.        ,  0.        ,  0.        ,  0.        ,\n",
       "        0.        ,  0.        ,  0.        ,  0.        ,  0.        ,\n",
       "        0.        ,  0.        ,  0.        ,  0.        ,  0.        ,\n",
       "        0.        ,  0.        ,  0.        ,  0.        ,  0.        ,\n",
       "        0.        ,  0.        ,  0.        ,  0.        ,  0.        ,\n",
       "        0.        ,  0.        ,  0.        ,  0.        ,  0.        ,\n",
       "        0.        ,  0.        ,  0.        ,  0.        ,  0.        ,\n",
       "        0.        ,  0.        ,  0.        ,  0.        ,  0.        ,\n",
       "        0.        ,  0.        ,  0.        ,  0.        ,  0.        ,\n",
       "        0.        ,  0.        ,  0.        ,  0.        ,  0.        ,\n",
       "        0.        ,  0.        ,  0.        ,  0.        ,  0.        ,\n",
       "        0.        ,  0.        ,  0.        ,  0.        ,  0.        ,\n",
       "        0.        ,  0.        ,  0.        ,  0.        ,  0.        ,\n",
       "        0.        ,  0.        ,  0.        ,  0.        ,  0.        ,\n",
       "        0.        ,  0.        ,  0.        ,  0.        ,  0.        ,\n",
       "        0.        ,  0.        ,  0.        ,  0.        ,  0.        ,\n",
       "        0.        ,  0.        ,  0.        ,  0.        ,  0.        ,\n",
       "        0.        ,  0.        ,  0.        ,  0.        ,  0.        ,\n",
       "        0.        ,  0.        ,  0.        ,  0.        ], dtype=float32)"
      ]
     },
     "execution_count": 5,
     "metadata": {},
     "output_type": "execute_result"
    }
   ],
   "source": [
    "sample_data"
   ]
  },
  {
   "cell_type": "markdown",
   "metadata": {
    "deletable": true,
    "editable": true
   },
   "source": [
    "## もっと見やすくすると､こんな感じです｡\n",
    "各位置の黒さと､数字の大きさが対応していることがわかります｡\n",
    "![](https://www.tensorflow.org/versions/master/images/MNIST-Matrix.png)\n",
    "\n",
    "参考URL：http://tensorflow.classcat.com/2016/03/09/tensorflow-cc-mnist-for-ml-beginners/"
   ]
  },
  {
   "cell_type": "markdown",
   "metadata": {
    "deletable": true,
    "editable": true
   },
   "source": [
    "### モデルの定義\n",
    "ここでは、シンプルな三層パーセプトロンを定義します。これは全結合層のみからなるネットワークです。中間層のユニット数は適当に100とし、出力は10クラスなので10とします。ここで用いるMNISTデータセットは10種のラベルを持つためです。では、モデルを定義するために必要な`Link`, `Function`, そして`Chain`について、簡単にここで説明を行います。\n",
    "\n",
    "### LinkとFunction\n",
    "\n",
    "- Chainerでは、ニューラルネットワークの各層を、`Link`と`Function`に区別します。\n",
    "- **`Link`は、パラメータを持つ関数です。**\n",
    "- **`Function`は、パラメータを持たない関数です。**\n",
    "- これらを組み合わせてモデルを記述します。\n",
    "- パラメータを持つ層は、`chainer.links`モジュール以下にたくさん用意されています。\n",
    "- パラメータを持たない層は、`chainer.functions`モジュール以下にたくさん用意されています。\n",
    "- これらを簡単に使うために、\n",
    "    ```\n",
    "    import chainer.links as L\n",
    "    import chainer.functions as F\n",
    "    ```\n",
    "    と別名を与えて、`L.Convolution2D(...)`や`F.relu(...)`のように用いる慣習があります。\n",
    "\n",
    "### Chain\n",
    "\n",
    "- Chainは、パラメータを持つ層＝**`Link`をまとめておくためのクラス**です。\n",
    "- パラメータを持つということは、基本的にモデルの学習の際にそれらを更新していく必要があるということです（例外はあります）。\n",
    "- そこで、学習中に`Optimizer`が更新すべき全てのパラメータを簡単に取得できるように、`Chain`で一箇所にまとめておきます。\n",
    "\n",
    "### Chainを継承して定義されるモデル\n",
    "\n",
    "- モデルは`Chain`クラスを継承したクラスとして定義されることが多いです。\n",
    "- その場合、モデルを表すクラスのコンストラクタで、親クラスのコンストラクタにキーワード引数の形で登録したい層の名前と、オブジェクトを渡しておくと、自動的に`Optimizer`から見つけられる形で保持しておいてくれます。\n",
    "- これは、別の場所で`add_link`メソッドを使っても行うことができます。 \n",
    "- また、関数呼び出しのようにしてモデルに`()`アクセサでデータを渡せるように、`__call__`メソッドを定義して、その中にforward処理を記述すると便利です。"
   ]
  },
  {
   "cell_type": "code",
   "execution_count": 6,
   "metadata": {
    "collapsed": true,
    "deletable": true,
    "editable": true
   },
   "outputs": [],
   "source": [
    "# ニューラルネットのモデルを定義\n",
    "# 層が5つ以上になってくると､Deep Learningと呼ばれるようになります｡\n",
    "\n",
    "class MLP(chainer.Chain):\n",
    "\n",
    "    def __init__(self):\n",
    "        \"\"\" ネットワークの構造を定義 \"\"\"\n",
    "        super(MLP, self).__init__(\n",
    "            l1=L.Linear(784, 900),   # 入力784ユニット、 出力900ユニット\n",
    "            l2=L.Linear(900, 1200),  # 入力900ユニット、 出力1200ユニッ\n",
    "            l3=L.Linear(1200, 800),  # 入力1200ユニット、出力800ユニット\n",
    "            l4=L.Linear(800, 500),   # 入力800ユニット､  出力500ユニット\n",
    "            l5=L.Linear(500, 10),    # 入力500ユニット､  出力10ユニット\n",
    "        )\n",
    "\n",
    "    def __call__(self, x):\n",
    "        \"\"\" 計算の規則を定義 \"\"\"\n",
    "        h1 = F.relu(self.l1(x))\n",
    "        h2 = F.relu(self.l2(h1))\n",
    "        h3 = F.relu(self.l3(h2))\n",
    "        h4 = F.relu(self.l4(h3))\n",
    "        return self.l5(h4)"
   ]
  },
  {
   "cell_type": "markdown",
   "metadata": {
    "deletable": true,
    "editable": true
   },
   "source": [
    "## 定義されたモデルを図にすると以下のようになります。\n",
    "\n",
    "人間の脳のニューロンの繋がりを模しているので､ニューラルネットワークと呼ばれます｡\n",
    "各パーセプトロンで計算した数値が､次々に右側の層へ受け渡されていきます｡\n",
    "\n",
    "これは､人間の脳で行われている､電気信号の受け渡しを表現しています｡\n",
    "\n",
    "手書き数字のデータ（28px × 28px）を変換すると､784次元のベクトルになります｡\n",
    "インプットの数値の個数は784ユニットになります。\n",
    "\n",
    "中間の層の数は､大体で決めています｡それなりに大きな数であれば､ある程度なんでも大丈夫です｡\n",
    "\n",
    "最後の層では、0〜9の数字である確率を出力するため10個のユニットになります。\n",
    "![](https://qiita-image-store.s3.amazonaws.com/0/50670/155b9533-4b47-0748-226c-1e3082930ed9.png)\n",
    "\n",
    "参考URL：http://qiita.com/kenmatsu4/items/7b8d24d4c5144a686412"
   ]
  },
  {
   "cell_type": "code",
   "execution_count": 7,
   "metadata": {
    "collapsed": true,
    "deletable": true,
    "editable": true
   },
   "outputs": [],
   "source": [
    "# ミニバッチのサイズを指定\n",
    "batchsize = 100\n",
    "\n",
    "# 学習の繰り返し回数（epoch）を指定\n",
    "epoch = 20\n",
    "\n",
    "# 訓練のためのニューラルネットワークをセットアップする\n",
    "model = L.Classifier(MLP())"
   ]
  },
  {
   "cell_type": "markdown",
   "metadata": {
    "collapsed": true,
    "deletable": true,
    "editable": true
   },
   "source": [
    "#### Iteratorの作成\n",
    "データセットから決まった数のデータを取り出し、それらを束ねてミニバッチを作成して返してくれるIteratorを作成しましょう。これをこの後の学習ループの中で使用していきます。\n",
    "\n",
    " Chainerがいくつか用意しているIteratorの一種である`SerialIterator`は、データセットの中のデータを順番に取り出してくる最もシンプルなIteratorです。\n",
    " \n",
    "引数にデータセットオブジェクトと、バッチサイズを取ります。\n",
    "また、このとき渡したデータセットから、何周も何周もデータを繰り返し読み出す必要がある場合は`repeat`引数を`True`とし、1周が終わったらそれ以上データを取り出したくない場合はこれを`False`とします。デフォルトでは、`True`になっています。\n",
    "`shuffle`引数に`True`を渡すと、データセットから取り出されてくるデータの順番をエポックごとにランダムに変更します。"
   ]
  },
  {
   "cell_type": "code",
   "execution_count": 8,
   "metadata": {
    "collapsed": true,
    "deletable": true,
    "editable": true
   },
   "outputs": [],
   "source": [
    "# データセットをイテレータの形式に変換する\n",
    "train_iter = chainer.iterators.SerialIterator(train, batchsize)\n",
    "test_iter = chainer.iterators.SerialIterator(test, batchsize, repeat=False, shuffle=False)"
   ]
  },
  {
   "cell_type": "markdown",
   "metadata": {
    "deletable": true,
    "editable": true
   },
   "source": [
    "### 最適化手法の選択\n",
    "Chainerは多くの最適化手法を提供しています。`chainer.optimizers`モジュール以下にそれらはあります。ここでは最もシンプルな勾配降下法の手法である`optimizers.SGD`を用います。Optimizerのオブジェクトには、`setup`メソッドを使ってモデル（`Chain`オブジェクト）を渡します。こうすることでOptimizerは、自身が更新すべきモデル内のパラメータを自動的にたどってくれます。"
   ]
  },
  {
   "cell_type": "code",
   "execution_count": 9,
   "metadata": {
    "collapsed": true,
    "deletable": true,
    "editable": true
   },
   "outputs": [],
   "source": [
    "# 最適化の方法を定義\n",
    "optimizer = chainer.optimizers.Adam()\n",
    "optimizer.setup(model)"
   ]
  },
  {
   "cell_type": "markdown",
   "metadata": {},
   "source": [
    "### Updater\n",
    "![](https://s3.amazonaws.com/ai-standard/pic-d3-5.png)\n",
    "\n",
    "Updaterは中にIteratorとOptimizerを持っています。Iteratorからはデータセットを参照することができ、Optimizerはモデルの参照を持っています。\n",
    "\n",
    "Updater内では以下の処理が行われます。\n",
    "- データセットからデータをIteratorで取り出す\n",
    "- モデルに渡してlossを計算する\n",
    "- Optimizerを使って、モデルのパラメータの更新をする"
   ]
  },
  {
   "cell_type": "code",
   "execution_count": 10,
   "metadata": {
    "collapsed": true,
    "deletable": true,
    "editable": true
   },
   "outputs": [],
   "source": [
    "# updaterにiteratorとoptimizerを渡す\n",
    "updater = training.StandardUpdater(train_iter, optimizer)"
   ]
  },
  {
   "cell_type": "markdown",
   "metadata": {},
   "source": [
    "### trainer\n",
    "Trainerのオブジェクトを作成する際に必須となるのは、先程作成したUpdaterオブジェクトだけですが、二番目の引数stop_triggerに学習をどのタイミングで終了するかを表す(長さ, 単位)という形のタプルを与えると、指定したタイミングで学習を自動的に終了することができます。長さには任意の整数、単位には'epoch'か'iteration'のいずれかの文字列を指定できます。stop_triggerを指定しない場合、学習は自動的には止まりません。"
   ]
  },
  {
   "cell_type": "code",
   "execution_count": null,
   "metadata": {
    "collapsed": true
   },
   "outputs": [],
   "source": [
    "# trainerにupdaterを渡す\n",
    "trainer = training.Trainer(updater, (epoch, 'epoch'))"
   ]
  },
  {
   "cell_type": "markdown",
   "metadata": {
    "deletable": true,
    "editable": true
   },
   "source": [
    "### extention の設定\n",
    "#### `Evaluator`\n",
    "> 評価用のデータセットの`Iterator`と、学習に使うモデルのオブジェクトを渡しておくことで、学習中のモデルを指定されたタイミングで評価用データセットを用いて評価します。\n",
    "\n",
    "#### `LogReport`\n",
    ">`epoch`や`iteration`ごとの`loss`, `accuracy`などを自動的に集計し、`Trainer`の`out`引数で指定した出力ディレクトリに`log`というファイル名で保存します。\n",
    "\n",
    "#### `PrintReport`\n",
    ">`Reporter`によって集計された値を標準出力に出力します。このときどの値を出力するかを、リストの形で与えます。\n",
    "\n",
    "#### `PlotReport`\n",
    "> 引数のリストで指定された値の変遷を`matplotlib`ライブラリを使ってグラフに描画し、出力ディレクトリに`file_name`引数で指定されたファイル名で画像として保存します。"
   ]
  },
  {
   "cell_type": "code",
   "execution_count": 11,
   "metadata": {
    "collapsed": false,
    "deletable": true,
    "editable": true
   },
   "outputs": [
    {
     "name": "stdout",
     "output_type": "stream",
     "text": [
      "epoch       main/loss   validation/main/loss  main/accuracy  validation/main/accuracy  elapsed_time\n",
      "\u001b[J1           0.20878     0.104125              0.935767       0.9683                    70.8486       \n",
      "\u001b[J2           0.0883471   0.099857              0.973783       0.969                     161.415       \n",
      "\u001b[J3           0.063475    0.0782755             0.981533       0.9784                    266.3         \n",
      "\u001b[J4           0.0498794   0.0941134             0.985333       0.9742                    348.813       \n",
      "\u001b[J5           0.0429098   0.0801073             0.986983       0.9797                    420.415       \n",
      "\u001b[J6           0.0332529   0.111198              0.989983       0.9735                    497.006       \n",
      "\u001b[J7           0.0292616   0.0891346             0.991883       0.9777                    567.656       \n",
      "\u001b[J8           0.0311657   0.0884774             0.99135        0.9817                    649.867       \n",
      "\u001b[J9           0.0271153   0.0796205             0.9923         0.9819                    722.225       \n",
      "\u001b[J10          0.0215797   0.0942008             0.993267       0.9787                    798.35        \n",
      "\u001b[J11          0.0182499   0.111625              0.994883       0.9796                    872.825       \n",
      "\u001b[J12          0.019514    0.105929              0.994533       0.9822                    944.924       \n",
      "\u001b[J13          0.0224177   0.0892746             0.994383       0.9818                    1018.53       \n",
      "\u001b[J14          0.0175439   0.0919233             0.995133       0.9811                    1099.06       \n",
      "\u001b[J15          0.0151208   0.0764016             0.995967       0.9847                    1186.62       \n",
      "\u001b[J16          0.0136672   0.0825661             0.99615        0.985                     1279.83       \n",
      "\u001b[J17          0.0125026   0.0848467             0.99645        0.985                     1369.39       \n",
      "\u001b[J18          0.0174365   0.118306              0.9959         0.9824                    1467.29       \n",
      "\u001b[J19          0.0126875   0.103412              0.996933       0.984                     1553.95       \n",
      "\u001b[J20          0.0167168   0.102816              0.996333       0.9797                    1646          \n"
     ]
    }
   ],
   "source": [
    "# epochごとに学習後の精度を評価する\n",
    "trainer.extend(extensions.Evaluator(test_iter, model))\n",
    "\n",
    "# epochごとにlogを出力する\n",
    "trainer.extend(extensions.LogReport())\n",
    "\n",
    "# logに出力する情報を指定する\n",
    "trainer.extend(extensions.PrintReport(['epoch', 'main/loss', 'validation/main/loss',\n",
    "                                       'main/accuracy', 'validation/main/accuracy', 'elapsed_time']))\n",
    "\n",
    "trainer.extend(extensions.PlotReport(['main/loss', 'validation/main/loss'], x_key='epoch', file_name='loss.png'))\n",
    "trainer.extend(extensions.PlotReport(['main/accuracy', 'validation/main/accuracy'], x_key='epoch', file_name='accuracy.png'))\n",
    "\n",
    "# 構成したtrainerをもとに､学習を実行する\n",
    "trainer.run()"
   ]
  },
  {
   "cell_type": "markdown",
   "metadata": {},
   "source": [
    "#### lossのグラフ\n",
    "![](https://s3.amazonaws.com/ai-standard/pic-d3-6.png)\n",
    "#### 精度のグラフ\n",
    "![](https://s3.amazonaws.com/ai-standard/pic-d3-7.png)"
   ]
  },
  {
   "cell_type": "code",
   "execution_count": 12,
   "metadata": {
    "collapsed": false,
    "deletable": true,
    "editable": true
   },
   "outputs": [
    {
     "data": {
      "image/png": "[encoded data removed]",
      "text/plain": [
       "<matplotlib.figure.Figure at 0x11bfbfb00>"
      ]
     },
     "metadata": {},
     "output_type": "display_data"
    }
   ],
   "source": [
    "# 学習済みモデルを使用して予測\n",
    "\n",
    "# 予測したいデータのindexを入力\n",
    "# testから出力するので､ 0 <= index <= 9999 の範囲から選択\n",
    "\n",
    "index = 789\n",
    "\n",
    "# 予測したい画像を表示\n",
    "pred = np.array(test[index][0]).reshape(-1, 1, 28, 28)\n",
    "draw_digit(pred)"
   ]
  },
  {
   "cell_type": "code",
   "execution_count": 13,
   "metadata": {
    "collapsed": false,
    "deletable": true,
    "editable": true
   },
   "outputs": [
    {
     "name": "stdout",
     "output_type": "stream",
     "text": [
      "予測:4\n",
      "正解しました！\n"
     ]
    }
   ],
   "source": [
    "# ニューラルネットで書いてある数字を予測\n",
    "# このあたりはあまり重要ではないので､コピペで大丈夫です｡\n",
    "mnist_test = model.predictor(pred)\n",
    "pre_num = int(np.argmax(mnist_test.data, axis=1))\n",
    "\n",
    "# 予測結果を出力\n",
    "print(\"予測:\" + str(pre_num))\n",
    "\n",
    "# 正解したのか､間違えたのかを出力\n",
    "if pre_num == test[index][1]:\n",
    "    print('正解しました！')\n",
    "else:\n",
    "    print('間違えました...')"
   ]
  }
 ],
 "metadata": {
  "kernelspec": {
   "display_name": "Python 3",
   "language": "python",
   "name": "python3"
  },
  "language_info": {
   "codemirror_mode": {
    "name": "ipython",
    "version": 3
   },
   "file_extension": ".py",
   "mimetype": "text/x-python",
   "name": "python",
   "nbconvert_exporter": "python",
   "pygments_lexer": "ipython3",
   "version": "3.5.3"
  }
 },
 "nbformat": 4,
 "nbformat_minor": 2
}
