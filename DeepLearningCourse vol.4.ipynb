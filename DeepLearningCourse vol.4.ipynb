{
 "cells": [
  {
   "cell_type": "markdown",
   "metadata": {
    "deletable": true,
    "editable": true
   },
   "source": [
    "DeepLearningCourse vol.4\n",
    "# Convolutional Neural Network"
   ]
  },
  {
   "cell_type": "markdown",
   "metadata": {
    "deletable": true,
    "editable": true
   },
   "source": [
    "Convolutional Neural Network(CNN)は、近年、画像処理の分野において顕著に成果を出してきたアルゴリズムです。\n",
    "\n",
    "コンピュータビジョンの業界におけるオリンピックとも言えるImageNetというコンペティションにおいて、Alex Krizhevskyのチームが2012年に圧勝したニューラルネットワークがこのCNNという手法です。 それまで26%だったエラー率を11%も下げることに成功して、世界を驚かせました。\n",
    "\n",
    "今回は、そのような実績をもたらし、現在でも広く使われているConvolutional Neural Networkを基本から勉強していきます。\n",
    "\n",
    "### 全結合層の問題点\n",
    "全結合層の問題点としてあげられるのは、「データの形状が無視されてしまう」ということです。\n",
    "\n",
    "例えば入力データが画像の場合は、画像には縦・横・チャンネル方向の3次元の形状があります。しかし、全結合層に入力するときには必ず1次元に直さなければいけません。\n",
    "\n",
    "CNNは一般的な順伝播型のニューラルネットワークとは違い、全結合層だけでなく畳み込み層(Convolution Layer)とプーリング層(Pooling Layer)から構成されるニューラルネットワークのことです。\n",
    "\n",
    "畳み込み層とプーリング層では下図のように入力のニューロンの一部の領域を絞って、局所的に次の層へと対応付けをしていきます。\n",
    "![](https://s3.amazonaws.com/ai-standard/pic-d3-1.png)\n",
    "\n",
    "以降では、各処理についての詳細を説明していきます。"
   ]
  },
  {
   "cell_type": "markdown",
   "metadata": {
    "deletable": true,
    "editable": true
   },
   "source": [
    "### 畳み込み層\n",
    "今まで見てきたように、画像は、右の図のように数値のデータの集合（行列）です。\n",
    "![](https://s3.amazonaws.com/ai-standard/pic-d2-2.png)\n",
    "\n",
    "畳み込み処理は、入力された画像（行列）にフィルタを適用して、別の行列を得る処理です。\n",
    "![](https://s3.amazonaws.com/ai-standard/pic-d2-3.png)\n",
    "\n",
    "ここでは３×３の画像を取り出して、フィルタと掛け合わせます。そしてその要素をすべて足し合わせます。その値が次の行列の値となります。\n",
    "以下の様なイメージです。\n",
    "\n",
    "![](https://deepage.net/img/convolutional_neural_network/animated_convolution.gif)\n",
    "\n",
    "こうすることによって、元の画像を表す行列よりも若干小さな行列を得ることができます。これが__畳み込み__処理と呼ばれるものです。\n",
    "\n",
    "#### なぜこんなことをやるのか？\n",
    "局所領域からフィルタを通して検出していくので物体の位置のズレに頑健になります。\n",
    "\n",
    "つまり、特徴を検知する対象が入力データのどこにあっても検知することができるようになります。これは__移動不変性__とよばれています。\n",
    "\n",
    "しかし、回転や拡大・縮小に対しては、不変性を維持できるものの、それほど頑健ではないので、データ拡張でそういったデータを増やして学習するなど工夫が必要になります。\n",
    "\n",
    "そして、各層は次の層へと意味のあるデータを順に受渡していきます。層が進むにつれて、ネットワークはより高レベルな特徴を学習していくことが可能になります。\n",
    "\n"
   ]
  },
  {
   "cell_type": "markdown",
   "metadata": {
    "collapsed": true,
    "deletable": true,
    "editable": true
   },
   "source": [
    "### ゼロパディング\n",
    "![](https://s3.amazonaws.com/ai-standard/pic-d4-1.png)\n",
    "ゼロパディングは上図のように、入力の特徴マップの周辺を0で埋めます。こうすることで以下のようなメリットがあります。\n",
    "\n",
    "- 端のデータに対する畳み込み回数が増えるので端の特徴も考慮されるようになります\n",
    "- 畳み込み演算の回数が増えるのでパラメーターの更新が多く実行されます\n",
    "- カーネルのサイズや、層の数を調整できます\n",
    "\n",
    "Convolution層とPooling層で出力サイズは次第に小さくなるので、ゼロパディングでサイズを増やしたりすると層の数を増やすことができます。"
   ]
  },
  {
   "cell_type": "markdown",
   "metadata": {
    "collapsed": true,
    "deletable": true,
    "editable": true
   },
   "source": [
    "### ストライド\n",
    "ストライドは畳み込みの適用間隔のことで、図で表すとわかりやすい。入力データ4×4に対してストライドを1とすると以下のようになります。\n",
    "\n",
    "![](https://deepage.net/img/convolutional_neural_network/stride1.gif)\n",
    "\n",
    "これがストライド2になると2つ間隔でフィルタが進むようになります。\n",
    "\n",
    "![](https://deepage.net/img/convolutional_neural_network/stride2.gif)"
   ]
  },
  {
   "cell_type": "markdown",
   "metadata": {
    "deletable": true,
    "editable": true
   },
   "source": [
    "### プーリング層\n",
    "プーリング層はたいてい、畳み込み層の後に適用されます。入力データをより扱いやすい形に変形するために、情報を圧縮します。\n",
    "\n",
    "max poolingと呼ばれる代表的な手法では、操作は以下のように小領域に対して、最大のものを選択する操作となります。\n",
    "\n",
    "![](https://s3.amazonaws.com/ai-standard/pic-d4-2.png)\n",
    "\n",
    "このように情報を圧縮することで、\n",
    "\n",
    "- 微小な位置変化に対して頑健となる\n",
    "- ある程度過学習を抑制する\n",
    "- 計算コストを下げる\n",
    "\n",
    "といった効果があります。"
   ]
  },
  {
   "cell_type": "markdown",
   "metadata": {
    "collapsed": true,
    "deletable": true,
    "editable": true
   },
   "source": [
    "以上のような概念を組み合わせることによって、CNNは定義されます。\n",
    "![](https://s3.amazonaws.com/ai-standard/pic-d3-1.png)"
   ]
  }
 ],
 "metadata": {
  "kernelspec": {
   "display_name": "Python 3",
   "language": "python",
   "name": "python3"
  },
  "language_info": {
   "codemirror_mode": {
    "name": "ipython",
    "version": 3
   },
   "file_extension": ".py",
   "mimetype": "text/x-python",
   "name": "python",
   "nbconvert_exporter": "python",
   "pygments_lexer": "ipython3",
   "version": "3.5.3"
  }
 },
 "nbformat": 4,
 "nbformat_minor": 2
}
