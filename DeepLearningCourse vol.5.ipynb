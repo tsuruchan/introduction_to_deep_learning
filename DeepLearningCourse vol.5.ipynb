{
 "cells": [
  {
   "cell_type": "markdown",
   "metadata": {},
   "source": [
    "DeepLearningCourse vol.5\n",
    "# chainer CNN チュートリアル with MNIST"
   ]
  },
  {
   "cell_type": "code",
   "execution_count": 2,
   "metadata": {
    "collapsed": true
   },
   "outputs": [],
   "source": [
    "# 必要なモジュールのインポート\n",
    "\n",
    "import chainer\n",
    "import chainer.functions as F\n",
    "import chainer.links as L\n",
    "from chainer import training\n",
    "from chainer.training import extensions\n",
    "\n",
    "%matplotlib inline\n",
    "import numpy as np\n",
    "import matplotlib.pyplot as plt"
   ]
  },
  {
   "cell_type": "markdown",
   "metadata": {},
   "source": [
    "### CNNの定義\n",
    "今回は以下のようなCNNを定義します。\n",
    "![](https://s3.amazonaws.com/ai-standard/pic-d5-1.png)"
   ]
  },
  {
   "cell_type": "code",
   "execution_count": 3,
   "metadata": {
    "collapsed": true
   },
   "outputs": [],
   "source": [
    "class CNN(chainer.Chain):\n",
    "\n",
    "    def __init__(self, train=True):\n",
    "        super(CNN, self).__init__(\n",
    "            conv1=L.Convolution2D(1, 32, 5),\n",
    "            conv2=L.Convolution2D(32, 64, 5),\n",
    "            l1=L.Linear(1024, 10),\n",
    "        )\n",
    "        self.train = train\n",
    "\n",
    "    def __call__(self, x):\n",
    "        h = F.max_pooling_2d(F.relu(self.conv1(x)), 2)\n",
    "        h = F.max_pooling_2d(F.relu(self.conv2(h)), 2)\n",
    "        return self.l1(h)"
   ]
  },
  {
   "cell_type": "markdown",
   "metadata": {},
   "source": [
    "モデルのCNN以外は以前のコードとほぼ同じです。"
   ]
  },
  {
   "cell_type": "code",
   "execution_count": 4,
   "metadata": {
    "collapsed": true
   },
   "outputs": [],
   "source": [
    "# ミニバッチのサイズを指定\n",
    "batchsize = 100\n",
    "\n",
    "# 学習の繰り返し回数（epoch）を指定\n",
    "epoch = 20\n",
    "\n",
    "# 訓練のためのニューラルネットワークをセットアップする\n",
    "model = L.Classifier(CNN())"
   ]
  },
  {
   "cell_type": "code",
   "execution_count": 5,
   "metadata": {
    "collapsed": false
   },
   "outputs": [
    {
     "name": "stdout",
     "output_type": "stream",
     "text": [
      "epoch       main/loss   validation/main/loss  main/accuracy  validation/main/accuracy  elapsed_time\n",
      "\u001b[J1           0.165093    0.0487811             0.95185        0.9836                    231.554       \n",
      "\u001b[J2           0.0489182   0.0323509             0.985          0.9899                    441.367       \n",
      "\u001b[J3           0.0351906   0.0254092             0.988917       0.9921                    655.832       \n",
      "\u001b[J4           0.0273997   0.0416213             0.991383       0.9866                    844.852       \n",
      "\u001b[J5           0.0217551   0.0288202             0.993033       0.9908                    1021.96       \n",
      "\u001b[J6           0.017318    0.0278816             0.994517       0.9908                    1197.7        \n",
      "\u001b[J7           0.0142615   0.0292009             0.995583       0.992                     1389.35       \n",
      "\u001b[J8           0.0110867   0.0281081             0.996467       0.9915                    1593.46       \n",
      "\u001b[J9           0.0107946   0.0264123             0.9964         0.9918                    1788.42       \n",
      "\u001b[J10          0.00775654  0.0291199             0.997383       0.9909                    1987.08       \n",
      "\u001b[J11          0.00789868  0.0259038             0.997567       0.9917                    2161.68       \n",
      "\u001b[J12          0.00592197  0.0285832             0.99805        0.9926                    2354.83       \n",
      "\u001b[J13          0.00628031  0.0365614             0.997867       0.9909                    2546.28       \n",
      "\u001b[J14          0.00496116  0.0379596             0.9983         0.9907                    2769.46       \n",
      "\u001b[J15          0.00444918  0.0299873             0.99855        0.9923                    2959.38       \n",
      "\u001b[J16          0.00370947  0.0336865             0.9987         0.9909                    3157.48       \n",
      "\u001b[J17          0.00323134  0.0293236             0.998933       0.9919                    3360.59       \n",
      "\u001b[J18          0.00374558  0.0413659             0.998617       0.9903                    3562.31       \n",
      "\u001b[J19          0.00495491  0.0337395             0.998233       0.9916                    3757.7        \n",
      "\u001b[J20          0.00383016  0.0349421             0.998783       0.992                     3934.77       \n"
     ]
    }
   ],
   "source": [
    "# MNISTのデータセットを読み込む\n",
    "# ndim に 3 を与えると，shape が (1, 28, 28) の形式で取得できます。\n",
    "train, test = chainer.datasets.get_mnist(ndim=3)\n",
    "\n",
    "# データセットをイテレータの形式に変換する\n",
    "train_iter = chainer.iterators.SerialIterator(train, batchsize)\n",
    "test_iter = chainer.iterators.SerialIterator(test, batchsize, repeat=False, shuffle=False)\n",
    "\n",
    "# 最適化の方法を定義\n",
    "optimizer = chainer.optimizers.Adam()\n",
    "optimizer.setup(model)\n",
    "\n",
    "# updaterにiteratorとoptimizerを渡す\n",
    "updater = training.StandardUpdater(train_iter, optimizer)\n",
    "\n",
    "# trainerにupdaterを渡す\n",
    "trainer = training.Trainer(updater, (epoch, 'epoch'))\n",
    "\n",
    "# epochごとに学習後の精度を評価する\n",
    "trainer.extend(extensions.Evaluator(test_iter, model))\n",
    "\n",
    "# epochごとにlogを出力する\n",
    "trainer.extend(extensions.LogReport())\n",
    "\n",
    "# logに出力する情報を指定する\n",
    "trainer.extend(extensions.PrintReport(['epoch', 'main/loss', 'validation/main/loss',\n",
    "                                       'main/accuracy', 'validation/main/accuracy', 'elapsed_time']))\n",
    "\n",
    "trainer.extend(extensions.PlotReport(['main/loss', 'validation/main/loss'], x_key='epoch', file_name='loss.png'))\n",
    "trainer.extend(extensions.PlotReport(['main/accuracy', 'validation/main/accuracy'], x_key='epoch', file_name='accuracy.png'))\n",
    "\n",
    "# 構成したtrainerをもとに､学習を実行する\n",
    "trainer.run()"
   ]
  },
  {
   "cell_type": "markdown",
   "metadata": {},
   "source": [
    "### 精度比較\n",
    "![](https://s3.amazonaws.com/ai-standard/pic-d5-4.png)"
   ]
  },
  {
   "cell_type": "markdown",
   "metadata": {},
   "source": [
    "### loss比較\n",
    "![](https://s3.amazonaws.com/ai-standard/pic-d5-5.png)"
   ]
  },
  {
   "cell_type": "markdown",
   "metadata": {},
   "source": [
    "以上から、単純なCNNでもニューラルネットワークと比べると、精度・lossが改善されていることが分かりました。"
   ]
  }
 ],
 "metadata": {
  "kernelspec": {
   "display_name": "Python 3",
   "language": "python",
   "name": "python3"
  },
  "language_info": {
   "codemirror_mode": {
    "name": "ipython",
    "version": 3
   },
   "file_extension": ".py",
   "mimetype": "text/x-python",
   "name": "python",
   "nbconvert_exporter": "python",
   "pygments_lexer": "ipython3",
   "version": "3.5.3"
  }
 },
 "nbformat": 4,
 "nbformat_minor": 2
}
